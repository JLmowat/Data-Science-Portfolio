{
 "cells": [
  {
   "cell_type": "markdown",
   "id": "911b6635-c80c-43e8-8fc7-a2f901854802",
   "metadata": {},
   "source": [
    "## Web Scrapping weather data from www.timeanddate.com\n",
    "\n",
    "The goal is to gather the daily temperature humidity and pressure from September 2009 to present."
   ]
  },
  {
   "cell_type": "code",
   "execution_count": null,
   "id": "e319156a-3d1f-4cbc-b4b2-0e95a1982a8c",
   "metadata": {},
   "outputs": [],
   "source": [
    "import pandas as pd"
   ]
  },
  {
   "cell_type": "code",
   "execution_count": null,
   "id": "585cdadc-c87c-46af-8f97-e33599985deb",
   "metadata": {},
   "outputs": [],
   "source": [
    "import requests\n",
    "import os\n",
    "import shutil\n",
    "\n",
    "from bs4 import BeautifulSoup\n",
    "import json\n"
   ]
  },
  {
   "cell_type": "code",
   "execution_count": null,
   "id": "c368e676-f0cd-4842-95be-8ea9885d749c",
   "metadata": {},
   "outputs": [],
   "source": [
    "url_start = \"https://www.timeanddate.com/weather/usa/oakland/historic?month={}&year={}\""
   ]
  },
  {
   "cell_type": "markdown",
   "id": "58ce5d2a-1fb4-4ee0-a9eb-b2a1ed6204ca",
   "metadata": {},
   "source": [
    "#### Test webscraping process\n"
   ]
  },
  {
   "cell_type": "code",
   "execution_count": null,
   "id": "b28248b8-6047-4ec7-88d1-e554d20e43ca",
   "metadata": {},
   "outputs": [],
   "source": [
    "year = 2023\n",
    "months = 7\n",
    "\n",
    "url = url_start.format(month, year)\n",
    "\n",
    "import_data = requests.get(url)\n",
    "yearmonth = str(year) + str(month)\n",
    "\n",
    "with open(\"test_{}.html\".format(yearmonth), \"w+\") as f:\n",
    "    f.write(import_data.text)"
   ]
  },
  {
   "cell_type": "code",
   "execution_count": null,
   "id": "4119bea8-34c7-4c4f-943c-5936fa92139c",
   "metadata": {},
   "outputs": [],
   "source": [
    "with open(\"test_20237.html\") as f:\n",
    "    page = f.read()"
   ]
  },
  {
   "cell_type": "code",
   "execution_count": null,
   "id": "14b175bc-efdb-4a0d-9f50-6a4befa09c96",
   "metadata": {},
   "outputs": [],
   "source": [
    "import re\n",
    "#page.text\n",
    "soup = BeautifulSoup(page, 'html.parser')\n",
    "\n",
    "s =soup.find(class_=\"headline-banner__wrap\")"
   ]
  },
  {
   "cell_type": "code",
   "execution_count": null,
   "id": "19df4ed3-ee87-4763-8cc8-7767bc3e4855",
   "metadata": {},
   "outputs": [],
   "source": [
    "type(s)"
   ]
  },
  {
   "cell_type": "code",
   "execution_count": null,
   "id": "16cd96e4-cd5b-4d0a-bc0b-f11240db0a07",
   "metadata": {
    "tags": []
   },
   "outputs": [],
   "source": [
    "d = str(s)\n",
    "p = re.compile(\"}],\\\"detail\\\":(\\[{.*?}\\]),\", flags=re.M)\n",
    "m = p.findall(d)[0] # Neeed [0] to remove the list [] created from findall\n",
    "data = json.loads(m)\n",
    "print(data[0:5]) \n",
    "type(data)"
   ]
  },
  {
   "cell_type": "code",
   "execution_count": null,
   "id": "1e1c2b4e-6172-4ffc-a0cb-af677d059c7f",
   "metadata": {},
   "outputs": [],
   "source": [
    "df=pd.DataFrame.from_dict(data, orient='columns')\n",
    "df.head()"
   ]
  },
  {
   "cell_type": "code",
   "execution_count": null,
   "id": "847acc73-1b6d-4f08-9608-6d84ef44dcec",
   "metadata": {},
   "outputs": [],
   "source": [
    "col = ['ds', 'temp', 'templow', 'baro', 'wind', 'wd', 'hum', 'desc']\n",
    "df[col].head()"
   ]
  },
  {
   "cell_type": "markdown",
   "id": "c5e52b8d-12dc-463f-aafa-680105000080",
   "metadata": {},
   "source": [
    "#### Convert to datetime"
   ]
  },
  {
   "cell_type": "code",
   "execution_count": null,
   "id": "4cc489c7-c3a6-4c17-803c-895a00a97b9c",
   "metadata": {},
   "outputs": [],
   "source": [
    "pattern = r\"day, (.*?) —\"\n",
    "df['ds'] = df['ds'].astype('string').str.extract(pattern)\n",
    "df['ds'] = pd.to_datetime(df['ds'] ,infer_datetime_format=True)\n"
   ]
  },
  {
   "cell_type": "code",
   "execution_count": null,
   "id": "e16483f9-350a-48f5-a932-41439477a9d6",
   "metadata": {},
   "outputs": [],
   "source": [
    "col = ['temp', 'templow', 'baro', 'wind', 'wd', 'hum']\n",
    "df[col].astype('int')"
   ]
  },
  {
   "cell_type": "code",
   "execution_count": null,
   "id": "3f6f00f7-a2f3-424d-8e79-95caf7ec1ce4",
   "metadata": {},
   "outputs": [],
   "source": [
    "df.head()"
   ]
  },
  {
   "cell_type": "code",
   "execution_count": null,
   "id": "4757a60e-f8a0-49e5-be81-a10966e2d072",
   "metadata": {},
   "outputs": [],
   "source": [
    "df.info()"
   ]
  },
  {
   "cell_type": "code",
   "execution_count": null,
   "id": "b35769cd-57f1-4e4f-8c38-0f4682b186f4",
   "metadata": {},
   "outputs": [],
   "source": []
  },
  {
   "cell_type": "markdown",
   "id": "f8485849-44b7-4d61-8bf5-3375e7b048af",
   "metadata": {},
   "source": [
    "### Putting it all together\n",
    "\n",
    "Collect all of the data for Oakland from September 2009 to July 2023\n",
    "\n",
    "There is time delay inside of the for loop to slow down the webscrapping with the delay the loop take 3 min to run"
   ]
  },
  {
   "cell_type": "code",
   "execution_count": null,
   "id": "a141c07c-6be5-4d24-b225-f415c434bb93",
   "metadata": {},
   "outputs": [],
   "source": []
  },
  {
   "cell_type": "code",
   "execution_count": 173,
   "id": "72b32b8b-3a39-48cb-9cac-d4d66a2f966a",
   "metadata": {},
   "outputs": [],
   "source": [
    "import time\n",
    "years = list(range(2009,2024))\n",
    "months = list(range(1,13))\n",
    "\n",
    "dfs = [] # list of dataframes\n",
    "\n",
    "url_start = \"https://www.timeanddate.com/weather/usa/oakland/historic?month={}&year={}\"\n",
    "for year in years:\n",
    "    for month in months:\n",
    "        if (year ==2009 and month < 9) or (year ==2023 and month > 7):\n",
    "            pass\n",
    "            # Skip the values in the for loop before Sept 2009 and after July 2023\n",
    "        else:\n",
    "            url = url_start.format(month, year)\n",
    "            import_data = requests.get(url)\n",
    "            page = import_data.text\n",
    "\n",
    "            soup = BeautifulSoup(page, 'html.parser')\n",
    "\n",
    "            s =soup.find(class_=\"headline-banner__wrap\") # Isolate the class with the data\n",
    "            d = str(s)\n",
    "            p = re.compile(\"}],\\\"detail\\\":(\\[{.*?}\\]),\", flags=re.M)\n",
    "            m = p.findall(d)[0] # Neeed [0] to remove the list [] created from findall\n",
    "            data = json.loads(m)\n",
    "            temp_df=pd.DataFrame.from_dict(data, orient='columns') # Convert list of dictionarys to a dataframe\n",
    "            dfs.append(temp_df) # Make a list of dataframes\n",
    "            \n",
    "            time.sleep(1) # slow down the web scraping to keep a reasonable level of internet traffic"
   ]
  },
  {
   "cell_type": "markdown",
   "id": "809a469f-0c6f-4468-9a08-1e63bddb0232",
   "metadata": {},
   "source": [
    "##### Combine into single dataframe"
   ]
  },
  {
   "cell_type": "code",
   "execution_count": 174,
   "id": "7d059903-59ad-4d05-838a-80fc4fbfcd91",
   "metadata": {},
   "outputs": [
    {
     "data": {
      "text/html": [
       "<div>\n",
       "<style scoped>\n",
       "    .dataframe tbody tr th:only-of-type {\n",
       "        vertical-align: middle;\n",
       "    }\n",
       "\n",
       "    .dataframe tbody tr th {\n",
       "        vertical-align: top;\n",
       "    }\n",
       "\n",
       "    .dataframe thead th {\n",
       "        text-align: right;\n",
       "    }\n",
       "</style>\n",
       "<table border=\"1\" class=\"dataframe\">\n",
       "  <thead>\n",
       "    <tr style=\"text-align: right;\">\n",
       "      <th></th>\n",
       "      <th>hl</th>\n",
       "      <th>hls</th>\n",
       "      <th>hlsh</th>\n",
       "      <th>date</th>\n",
       "      <th>ts</th>\n",
       "      <th>ds</th>\n",
       "      <th>icon</th>\n",
       "      <th>desc</th>\n",
       "      <th>temp</th>\n",
       "      <th>templow</th>\n",
       "      <th>baro</th>\n",
       "      <th>wind</th>\n",
       "      <th>wd</th>\n",
       "      <th>hum</th>\n",
       "    </tr>\n",
       "  </thead>\n",
       "  <tbody>\n",
       "    <tr>\n",
       "      <th>0</th>\n",
       "      <td>True</td>\n",
       "      <td>Tue, Sep 8</td>\n",
       "      <td>Sep 8</td>\n",
       "      <td>1.252411e+12</td>\n",
       "      <td>12 pm</td>\n",
       "      <td>Tuesday, September 8, 2009, 12:00 pm — 6:00 pm</td>\n",
       "      <td>1</td>\n",
       "      <td>Sunny.</td>\n",
       "      <td>69.8</td>\n",
       "      <td>69.8</td>\n",
       "      <td>29.85</td>\n",
       "      <td>6.836</td>\n",
       "      <td>300</td>\n",
       "      <td>53</td>\n",
       "    </tr>\n",
       "    <tr>\n",
       "      <th>1</th>\n",
       "      <td>NaN</td>\n",
       "      <td>NaN</td>\n",
       "      <td>NaN</td>\n",
       "      <td>1.252433e+12</td>\n",
       "      <td>6 pm</td>\n",
       "      <td>Tuesday, September 8, 2009, 6:00 pm — 12:00 am</td>\n",
       "      <td>13</td>\n",
       "      <td>Clear.</td>\n",
       "      <td>57.2</td>\n",
       "      <td>57.2</td>\n",
       "      <td>29.89</td>\n",
       "      <td>4.350</td>\n",
       "      <td>330</td>\n",
       "      <td>87</td>\n",
       "    </tr>\n",
       "    <tr>\n",
       "      <th>2</th>\n",
       "      <td>True</td>\n",
       "      <td>Wed, Sep 9</td>\n",
       "      <td>Sep 9</td>\n",
       "      <td>1.252454e+12</td>\n",
       "      <td>12 am</td>\n",
       "      <td>Wednesday, September 9, 2009, 12:00 am — 6:00 am</td>\n",
       "      <td>13</td>\n",
       "      <td>Clear.</td>\n",
       "      <td>55.4</td>\n",
       "      <td>51.8</td>\n",
       "      <td>29.91</td>\n",
       "      <td>1.243</td>\n",
       "      <td>320</td>\n",
       "      <td>94</td>\n",
       "    </tr>\n",
       "    <tr>\n",
       "      <th>3</th>\n",
       "      <td>NaN</td>\n",
       "      <td>NaN</td>\n",
       "      <td>NaN</td>\n",
       "      <td>1.252476e+12</td>\n",
       "      <td>6 am</td>\n",
       "      <td>Wednesday, September 9, 2009, 6:00 am — 12:00 pm</td>\n",
       "      <td>36</td>\n",
       "      <td>No weather data available</td>\n",
       "      <td>NaN</td>\n",
       "      <td>NaN</td>\n",
       "      <td>0.00</td>\n",
       "      <td>0.000</td>\n",
       "      <td>0</td>\n",
       "      <td>0</td>\n",
       "    </tr>\n",
       "    <tr>\n",
       "      <th>4</th>\n",
       "      <td>NaN</td>\n",
       "      <td>NaN</td>\n",
       "      <td>NaN</td>\n",
       "      <td>1.252498e+12</td>\n",
       "      <td>12 pm</td>\n",
       "      <td>Wednesday, September 9, 2009, 12:00 pm — 6:00 pm</td>\n",
       "      <td>2</td>\n",
       "      <td>Passing clouds.</td>\n",
       "      <td>66.2</td>\n",
       "      <td>64.4</td>\n",
       "      <td>29.97</td>\n",
       "      <td>11.807</td>\n",
       "      <td>300</td>\n",
       "      <td>65</td>\n",
       "    </tr>\n",
       "  </tbody>\n",
       "</table>\n",
       "</div>"
      ],
      "text/plain": [
       "     hl         hls   hlsh          date     ts  \\\n",
       "0  True  Tue, Sep 8  Sep 8  1.252411e+12  12 pm   \n",
       "1   NaN         NaN    NaN  1.252433e+12   6 pm   \n",
       "2  True  Wed, Sep 9  Sep 9  1.252454e+12  12 am   \n",
       "3   NaN         NaN    NaN  1.252476e+12   6 am   \n",
       "4   NaN         NaN    NaN  1.252498e+12  12 pm   \n",
       "\n",
       "                                                 ds  icon  \\\n",
       "0    Tuesday, September 8, 2009, 12:00 pm — 6:00 pm     1   \n",
       "1    Tuesday, September 8, 2009, 6:00 pm — 12:00 am    13   \n",
       "2  Wednesday, September 9, 2009, 12:00 am — 6:00 am    13   \n",
       "3  Wednesday, September 9, 2009, 6:00 am — 12:00 pm    36   \n",
       "4  Wednesday, September 9, 2009, 12:00 pm — 6:00 pm     2   \n",
       "\n",
       "                        desc  temp  templow   baro    wind   wd  hum  \n",
       "0                     Sunny.  69.8     69.8  29.85   6.836  300   53  \n",
       "1                     Clear.  57.2     57.2  29.89   4.350  330   87  \n",
       "2                     Clear.  55.4     51.8  29.91   1.243  320   94  \n",
       "3  No weather data available   NaN      NaN   0.00   0.000    0    0  \n",
       "4            Passing clouds.  66.2     64.4  29.97  11.807  300   65  "
      ]
     },
     "execution_count": 174,
     "metadata": {},
     "output_type": "execute_result"
    }
   ],
   "source": [
    "df = pd.concat(dfs) # combine the list of dataframes into a single dataframe\n",
    "\n",
    "df.head()"
   ]
  },
  {
   "cell_type": "markdown",
   "id": "3d87bca6-0d32-4349-974e-e4953a47cba1",
   "metadata": {},
   "source": [
    "##### Clean the dataframe"
   ]
  },
  {
   "cell_type": "code",
   "execution_count": 175,
   "id": "d3fd3e7f-b1c8-44db-a0bc-40938fc2db30",
   "metadata": {
    "collapsed": true,
    "jupyter": {
     "outputs_hidden": true
    },
    "tags": []
   },
   "outputs": [
    {
     "ename": "IntCastingNaNError",
     "evalue": "Cannot convert non-finite values (NA or inf) to integer",
     "output_type": "error",
     "traceback": [
      "\u001b[0;31m---------------------------------------------------------------------------\u001b[0m",
      "\u001b[0;31mIntCastingNaNError\u001b[0m                        Traceback (most recent call last)",
      "Input \u001b[0;32mIn [175]\u001b[0m, in \u001b[0;36m<cell line: 3>\u001b[0;34m()\u001b[0m\n\u001b[1;32m      1\u001b[0m df[\u001b[38;5;124m'\u001b[39m\u001b[38;5;124mdesc\u001b[39m\u001b[38;5;124m'\u001b[39m]\u001b[38;5;241m.\u001b[39mastype(\u001b[38;5;124m'\u001b[39m\u001b[38;5;124mstring\u001b[39m\u001b[38;5;124m'\u001b[39m)\n\u001b[1;32m      2\u001b[0m col \u001b[38;5;241m=\u001b[39m [\u001b[38;5;124m'\u001b[39m\u001b[38;5;124mtemp\u001b[39m\u001b[38;5;124m'\u001b[39m, \u001b[38;5;124m'\u001b[39m\u001b[38;5;124mtemplow\u001b[39m\u001b[38;5;124m'\u001b[39m, \u001b[38;5;124m'\u001b[39m\u001b[38;5;124mbaro\u001b[39m\u001b[38;5;124m'\u001b[39m, \u001b[38;5;124m'\u001b[39m\u001b[38;5;124mwind\u001b[39m\u001b[38;5;124m'\u001b[39m, \u001b[38;5;124m'\u001b[39m\u001b[38;5;124mwd\u001b[39m\u001b[38;5;124m'\u001b[39m, \u001b[38;5;124m'\u001b[39m\u001b[38;5;124mhum\u001b[39m\u001b[38;5;124m'\u001b[39m]\n\u001b[0;32m----> 3\u001b[0m \u001b[43mdf\u001b[49m\u001b[43m[\u001b[49m\u001b[43mcol\u001b[49m\u001b[43m]\u001b[49m\u001b[38;5;241;43m.\u001b[39;49m\u001b[43mastype\u001b[49m\u001b[43m(\u001b[49m\u001b[38;5;124;43m'\u001b[39;49m\u001b[38;5;124;43mint\u001b[39;49m\u001b[38;5;124;43m'\u001b[39;49m\u001b[43m)\u001b[49m\n\u001b[1;32m      4\u001b[0m df\u001b[38;5;241m.\u001b[39mhead()\n",
      "File \u001b[0;32m/opt/anaconda3/lib/python3.9/site-packages/pandas/core/generic.py:5912\u001b[0m, in \u001b[0;36mNDFrame.astype\u001b[0;34m(self, dtype, copy, errors)\u001b[0m\n\u001b[1;32m   5905\u001b[0m     results \u001b[38;5;241m=\u001b[39m [\n\u001b[1;32m   5906\u001b[0m         \u001b[38;5;28mself\u001b[39m\u001b[38;5;241m.\u001b[39miloc[:, i]\u001b[38;5;241m.\u001b[39mastype(dtype, copy\u001b[38;5;241m=\u001b[39mcopy)\n\u001b[1;32m   5907\u001b[0m         \u001b[38;5;28;01mfor\u001b[39;00m i \u001b[38;5;129;01min\u001b[39;00m \u001b[38;5;28mrange\u001b[39m(\u001b[38;5;28mlen\u001b[39m(\u001b[38;5;28mself\u001b[39m\u001b[38;5;241m.\u001b[39mcolumns))\n\u001b[1;32m   5908\u001b[0m     ]\n\u001b[1;32m   5910\u001b[0m \u001b[38;5;28;01melse\u001b[39;00m:\n\u001b[1;32m   5911\u001b[0m     \u001b[38;5;66;03m# else, only a single dtype is given\u001b[39;00m\n\u001b[0;32m-> 5912\u001b[0m     new_data \u001b[38;5;241m=\u001b[39m \u001b[38;5;28;43mself\u001b[39;49m\u001b[38;5;241;43m.\u001b[39;49m\u001b[43m_mgr\u001b[49m\u001b[38;5;241;43m.\u001b[39;49m\u001b[43mastype\u001b[49m\u001b[43m(\u001b[49m\u001b[43mdtype\u001b[49m\u001b[38;5;241;43m=\u001b[39;49m\u001b[43mdtype\u001b[49m\u001b[43m,\u001b[49m\u001b[43m \u001b[49m\u001b[43mcopy\u001b[49m\u001b[38;5;241;43m=\u001b[39;49m\u001b[43mcopy\u001b[49m\u001b[43m,\u001b[49m\u001b[43m \u001b[49m\u001b[43merrors\u001b[49m\u001b[38;5;241;43m=\u001b[39;49m\u001b[43merrors\u001b[49m\u001b[43m)\u001b[49m\n\u001b[1;32m   5913\u001b[0m     \u001b[38;5;28;01mreturn\u001b[39;00m \u001b[38;5;28mself\u001b[39m\u001b[38;5;241m.\u001b[39m_constructor(new_data)\u001b[38;5;241m.\u001b[39m__finalize__(\u001b[38;5;28mself\u001b[39m, method\u001b[38;5;241m=\u001b[39m\u001b[38;5;124m\"\u001b[39m\u001b[38;5;124mastype\u001b[39m\u001b[38;5;124m\"\u001b[39m)\n\u001b[1;32m   5915\u001b[0m \u001b[38;5;66;03m# GH 33113: handle empty frame or series\u001b[39;00m\n",
      "File \u001b[0;32m/opt/anaconda3/lib/python3.9/site-packages/pandas/core/internals/managers.py:419\u001b[0m, in \u001b[0;36mBaseBlockManager.astype\u001b[0;34m(self, dtype, copy, errors)\u001b[0m\n\u001b[1;32m    418\u001b[0m \u001b[38;5;28;01mdef\u001b[39;00m \u001b[38;5;21mastype\u001b[39m(\u001b[38;5;28mself\u001b[39m: T, dtype, copy: \u001b[38;5;28mbool\u001b[39m \u001b[38;5;241m=\u001b[39m \u001b[38;5;28;01mFalse\u001b[39;00m, errors: \u001b[38;5;28mstr\u001b[39m \u001b[38;5;241m=\u001b[39m \u001b[38;5;124m\"\u001b[39m\u001b[38;5;124mraise\u001b[39m\u001b[38;5;124m\"\u001b[39m) \u001b[38;5;241m-\u001b[39m\u001b[38;5;241m>\u001b[39m T:\n\u001b[0;32m--> 419\u001b[0m     \u001b[38;5;28;01mreturn\u001b[39;00m \u001b[38;5;28;43mself\u001b[39;49m\u001b[38;5;241;43m.\u001b[39;49m\u001b[43mapply\u001b[49m\u001b[43m(\u001b[49m\u001b[38;5;124;43m\"\u001b[39;49m\u001b[38;5;124;43mastype\u001b[39;49m\u001b[38;5;124;43m\"\u001b[39;49m\u001b[43m,\u001b[49m\u001b[43m \u001b[49m\u001b[43mdtype\u001b[49m\u001b[38;5;241;43m=\u001b[39;49m\u001b[43mdtype\u001b[49m\u001b[43m,\u001b[49m\u001b[43m \u001b[49m\u001b[43mcopy\u001b[49m\u001b[38;5;241;43m=\u001b[39;49m\u001b[43mcopy\u001b[49m\u001b[43m,\u001b[49m\u001b[43m \u001b[49m\u001b[43merrors\u001b[49m\u001b[38;5;241;43m=\u001b[39;49m\u001b[43merrors\u001b[49m\u001b[43m)\u001b[49m\n",
      "File \u001b[0;32m/opt/anaconda3/lib/python3.9/site-packages/pandas/core/internals/managers.py:304\u001b[0m, in \u001b[0;36mBaseBlockManager.apply\u001b[0;34m(self, f, align_keys, ignore_failures, **kwargs)\u001b[0m\n\u001b[1;32m    302\u001b[0m         applied \u001b[38;5;241m=\u001b[39m b\u001b[38;5;241m.\u001b[39mapply(f, \u001b[38;5;241m*\u001b[39m\u001b[38;5;241m*\u001b[39mkwargs)\n\u001b[1;32m    303\u001b[0m     \u001b[38;5;28;01melse\u001b[39;00m:\n\u001b[0;32m--> 304\u001b[0m         applied \u001b[38;5;241m=\u001b[39m \u001b[38;5;28;43mgetattr\u001b[39;49m\u001b[43m(\u001b[49m\u001b[43mb\u001b[49m\u001b[43m,\u001b[49m\u001b[43m \u001b[49m\u001b[43mf\u001b[49m\u001b[43m)\u001b[49m\u001b[43m(\u001b[49m\u001b[38;5;241;43m*\u001b[39;49m\u001b[38;5;241;43m*\u001b[39;49m\u001b[43mkwargs\u001b[49m\u001b[43m)\u001b[49m\n\u001b[1;32m    305\u001b[0m \u001b[38;5;28;01mexcept\u001b[39;00m (\u001b[38;5;167;01mTypeError\u001b[39;00m, \u001b[38;5;167;01mNotImplementedError\u001b[39;00m):\n\u001b[1;32m    306\u001b[0m     \u001b[38;5;28;01mif\u001b[39;00m \u001b[38;5;129;01mnot\u001b[39;00m ignore_failures:\n",
      "File \u001b[0;32m/opt/anaconda3/lib/python3.9/site-packages/pandas/core/internals/blocks.py:580\u001b[0m, in \u001b[0;36mBlock.astype\u001b[0;34m(self, dtype, copy, errors)\u001b[0m\n\u001b[1;32m    562\u001b[0m \u001b[38;5;124;03m\"\"\"\u001b[39;00m\n\u001b[1;32m    563\u001b[0m \u001b[38;5;124;03mCoerce to the new dtype.\u001b[39;00m\n\u001b[1;32m    564\u001b[0m \n\u001b[0;32m   (...)\u001b[0m\n\u001b[1;32m    576\u001b[0m \u001b[38;5;124;03mBlock\u001b[39;00m\n\u001b[1;32m    577\u001b[0m \u001b[38;5;124;03m\"\"\"\u001b[39;00m\n\u001b[1;32m    578\u001b[0m values \u001b[38;5;241m=\u001b[39m \u001b[38;5;28mself\u001b[39m\u001b[38;5;241m.\u001b[39mvalues\n\u001b[0;32m--> 580\u001b[0m new_values \u001b[38;5;241m=\u001b[39m \u001b[43mastype_array_safe\u001b[49m\u001b[43m(\u001b[49m\u001b[43mvalues\u001b[49m\u001b[43m,\u001b[49m\u001b[43m \u001b[49m\u001b[43mdtype\u001b[49m\u001b[43m,\u001b[49m\u001b[43m \u001b[49m\u001b[43mcopy\u001b[49m\u001b[38;5;241;43m=\u001b[39;49m\u001b[43mcopy\u001b[49m\u001b[43m,\u001b[49m\u001b[43m \u001b[49m\u001b[43merrors\u001b[49m\u001b[38;5;241;43m=\u001b[39;49m\u001b[43merrors\u001b[49m\u001b[43m)\u001b[49m\n\u001b[1;32m    582\u001b[0m new_values \u001b[38;5;241m=\u001b[39m maybe_coerce_values(new_values)\n\u001b[1;32m    583\u001b[0m newb \u001b[38;5;241m=\u001b[39m \u001b[38;5;28mself\u001b[39m\u001b[38;5;241m.\u001b[39mmake_block(new_values)\n",
      "File \u001b[0;32m/opt/anaconda3/lib/python3.9/site-packages/pandas/core/dtypes/cast.py:1292\u001b[0m, in \u001b[0;36mastype_array_safe\u001b[0;34m(values, dtype, copy, errors)\u001b[0m\n\u001b[1;32m   1289\u001b[0m     dtype \u001b[38;5;241m=\u001b[39m dtype\u001b[38;5;241m.\u001b[39mnumpy_dtype\n\u001b[1;32m   1291\u001b[0m \u001b[38;5;28;01mtry\u001b[39;00m:\n\u001b[0;32m-> 1292\u001b[0m     new_values \u001b[38;5;241m=\u001b[39m \u001b[43mastype_array\u001b[49m\u001b[43m(\u001b[49m\u001b[43mvalues\u001b[49m\u001b[43m,\u001b[49m\u001b[43m \u001b[49m\u001b[43mdtype\u001b[49m\u001b[43m,\u001b[49m\u001b[43m \u001b[49m\u001b[43mcopy\u001b[49m\u001b[38;5;241;43m=\u001b[39;49m\u001b[43mcopy\u001b[49m\u001b[43m)\u001b[49m\n\u001b[1;32m   1293\u001b[0m \u001b[38;5;28;01mexcept\u001b[39;00m (\u001b[38;5;167;01mValueError\u001b[39;00m, \u001b[38;5;167;01mTypeError\u001b[39;00m):\n\u001b[1;32m   1294\u001b[0m     \u001b[38;5;66;03m# e.g. astype_nansafe can fail on object-dtype of strings\u001b[39;00m\n\u001b[1;32m   1295\u001b[0m     \u001b[38;5;66;03m#  trying to convert to float\u001b[39;00m\n\u001b[1;32m   1296\u001b[0m     \u001b[38;5;28;01mif\u001b[39;00m errors \u001b[38;5;241m==\u001b[39m \u001b[38;5;124m\"\u001b[39m\u001b[38;5;124mignore\u001b[39m\u001b[38;5;124m\"\u001b[39m:\n",
      "File \u001b[0;32m/opt/anaconda3/lib/python3.9/site-packages/pandas/core/dtypes/cast.py:1237\u001b[0m, in \u001b[0;36mastype_array\u001b[0;34m(values, dtype, copy)\u001b[0m\n\u001b[1;32m   1234\u001b[0m     values \u001b[38;5;241m=\u001b[39m values\u001b[38;5;241m.\u001b[39mastype(dtype, copy\u001b[38;5;241m=\u001b[39mcopy)\n\u001b[1;32m   1236\u001b[0m \u001b[38;5;28;01melse\u001b[39;00m:\n\u001b[0;32m-> 1237\u001b[0m     values \u001b[38;5;241m=\u001b[39m \u001b[43mastype_nansafe\u001b[49m\u001b[43m(\u001b[49m\u001b[43mvalues\u001b[49m\u001b[43m,\u001b[49m\u001b[43m \u001b[49m\u001b[43mdtype\u001b[49m\u001b[43m,\u001b[49m\u001b[43m \u001b[49m\u001b[43mcopy\u001b[49m\u001b[38;5;241;43m=\u001b[39;49m\u001b[43mcopy\u001b[49m\u001b[43m)\u001b[49m\n\u001b[1;32m   1239\u001b[0m \u001b[38;5;66;03m# in pandas we don't store numpy str dtypes, so convert to object\u001b[39;00m\n\u001b[1;32m   1240\u001b[0m \u001b[38;5;28;01mif\u001b[39;00m \u001b[38;5;28misinstance\u001b[39m(dtype, np\u001b[38;5;241m.\u001b[39mdtype) \u001b[38;5;129;01mand\u001b[39;00m \u001b[38;5;28missubclass\u001b[39m(values\u001b[38;5;241m.\u001b[39mdtype\u001b[38;5;241m.\u001b[39mtype, \u001b[38;5;28mstr\u001b[39m):\n",
      "File \u001b[0;32m/opt/anaconda3/lib/python3.9/site-packages/pandas/core/dtypes/cast.py:1098\u001b[0m, in \u001b[0;36mastype_nansafe\u001b[0;34m(arr, dtype, copy, skipna)\u001b[0m\n\u001b[1;32m   1096\u001b[0m \u001b[38;5;28;01mif\u001b[39;00m arr\u001b[38;5;241m.\u001b[39mndim \u001b[38;5;241m>\u001b[39m \u001b[38;5;241m1\u001b[39m:\n\u001b[1;32m   1097\u001b[0m     flat \u001b[38;5;241m=\u001b[39m arr\u001b[38;5;241m.\u001b[39mravel()\n\u001b[0;32m-> 1098\u001b[0m     result \u001b[38;5;241m=\u001b[39m \u001b[43mastype_nansafe\u001b[49m\u001b[43m(\u001b[49m\u001b[43mflat\u001b[49m\u001b[43m,\u001b[49m\u001b[43m \u001b[49m\u001b[43mdtype\u001b[49m\u001b[43m,\u001b[49m\u001b[43m \u001b[49m\u001b[43mcopy\u001b[49m\u001b[38;5;241;43m=\u001b[39;49m\u001b[43mcopy\u001b[49m\u001b[43m,\u001b[49m\u001b[43m \u001b[49m\u001b[43mskipna\u001b[49m\u001b[38;5;241;43m=\u001b[39;49m\u001b[43mskipna\u001b[49m\u001b[43m)\u001b[49m\n\u001b[1;32m   1099\u001b[0m     \u001b[38;5;66;03m# error: Item \"ExtensionArray\" of \"Union[ExtensionArray, ndarray]\" has no\u001b[39;00m\n\u001b[1;32m   1100\u001b[0m     \u001b[38;5;66;03m# attribute \"reshape\"\u001b[39;00m\n\u001b[1;32m   1101\u001b[0m     \u001b[38;5;28;01mreturn\u001b[39;00m result\u001b[38;5;241m.\u001b[39mreshape(arr\u001b[38;5;241m.\u001b[39mshape)  \u001b[38;5;66;03m# type: ignore[union-attr]\u001b[39;00m\n",
      "File \u001b[0;32m/opt/anaconda3/lib/python3.9/site-packages/pandas/core/dtypes/cast.py:1148\u001b[0m, in \u001b[0;36mastype_nansafe\u001b[0;34m(arr, dtype, copy, skipna)\u001b[0m\n\u001b[1;32m   1145\u001b[0m     \u001b[38;5;28;01mraise\u001b[39;00m \u001b[38;5;167;01mTypeError\u001b[39;00m(\u001b[38;5;124mf\u001b[39m\u001b[38;5;124m\"\u001b[39m\u001b[38;5;124mcannot astype a timedelta from [\u001b[39m\u001b[38;5;132;01m{\u001b[39;00marr\u001b[38;5;241m.\u001b[39mdtype\u001b[38;5;132;01m}\u001b[39;00m\u001b[38;5;124m] to [\u001b[39m\u001b[38;5;132;01m{\u001b[39;00mdtype\u001b[38;5;132;01m}\u001b[39;00m\u001b[38;5;124m]\u001b[39m\u001b[38;5;124m\"\u001b[39m)\n\u001b[1;32m   1147\u001b[0m \u001b[38;5;28;01melif\u001b[39;00m np\u001b[38;5;241m.\u001b[39missubdtype(arr\u001b[38;5;241m.\u001b[39mdtype, np\u001b[38;5;241m.\u001b[39mfloating) \u001b[38;5;129;01mand\u001b[39;00m np\u001b[38;5;241m.\u001b[39missubdtype(dtype, np\u001b[38;5;241m.\u001b[39minteger):\n\u001b[0;32m-> 1148\u001b[0m     \u001b[38;5;28;01mreturn\u001b[39;00m \u001b[43mastype_float_to_int_nansafe\u001b[49m\u001b[43m(\u001b[49m\u001b[43marr\u001b[49m\u001b[43m,\u001b[49m\u001b[43m \u001b[49m\u001b[43mdtype\u001b[49m\u001b[43m,\u001b[49m\u001b[43m \u001b[49m\u001b[43mcopy\u001b[49m\u001b[43m)\u001b[49m\n\u001b[1;32m   1150\u001b[0m \u001b[38;5;28;01melif\u001b[39;00m is_object_dtype(arr\u001b[38;5;241m.\u001b[39mdtype):\n\u001b[1;32m   1151\u001b[0m \n\u001b[1;32m   1152\u001b[0m     \u001b[38;5;66;03m# work around NumPy brokenness, #1987\u001b[39;00m\n\u001b[1;32m   1153\u001b[0m     \u001b[38;5;28;01mif\u001b[39;00m np\u001b[38;5;241m.\u001b[39missubdtype(dtype\u001b[38;5;241m.\u001b[39mtype, np\u001b[38;5;241m.\u001b[39minteger):\n",
      "File \u001b[0;32m/opt/anaconda3/lib/python3.9/site-packages/pandas/core/dtypes/cast.py:1193\u001b[0m, in \u001b[0;36mastype_float_to_int_nansafe\u001b[0;34m(values, dtype, copy)\u001b[0m\n\u001b[1;32m   1189\u001b[0m \u001b[38;5;124;03m\"\"\"\u001b[39;00m\n\u001b[1;32m   1190\u001b[0m \u001b[38;5;124;03mastype with a check preventing converting NaN to an meaningless integer value.\u001b[39;00m\n\u001b[1;32m   1191\u001b[0m \u001b[38;5;124;03m\"\"\"\u001b[39;00m\n\u001b[1;32m   1192\u001b[0m \u001b[38;5;28;01mif\u001b[39;00m \u001b[38;5;129;01mnot\u001b[39;00m np\u001b[38;5;241m.\u001b[39misfinite(values)\u001b[38;5;241m.\u001b[39mall():\n\u001b[0;32m-> 1193\u001b[0m     \u001b[38;5;28;01mraise\u001b[39;00m IntCastingNaNError(\n\u001b[1;32m   1194\u001b[0m         \u001b[38;5;124m\"\u001b[39m\u001b[38;5;124mCannot convert non-finite values (NA or inf) to integer\u001b[39m\u001b[38;5;124m\"\u001b[39m\n\u001b[1;32m   1195\u001b[0m     )\n\u001b[1;32m   1196\u001b[0m \u001b[38;5;28;01mreturn\u001b[39;00m values\u001b[38;5;241m.\u001b[39mastype(dtype, copy\u001b[38;5;241m=\u001b[39mcopy)\n",
      "\u001b[0;31mIntCastingNaNError\u001b[0m: Cannot convert non-finite values (NA or inf) to integer"
     ]
    }
   ],
   "source": [
    "df['desc'].astype('string')\n",
    "col = ['temp', 'templow', 'baro', 'wind', 'wd', 'hum']\n",
    "df[col].astype('int')   # gives an error because of null values and missing data for those dates\n",
    "df.head()"
   ]
  },
  {
   "cell_type": "code",
   "execution_count": 176,
   "id": "57245bab-a521-47de-ace4-489ce1b37f7d",
   "metadata": {},
   "outputs": [
    {
     "data": {
      "text/html": [
       "<div>\n",
       "<style scoped>\n",
       "    .dataframe tbody tr th:only-of-type {\n",
       "        vertical-align: middle;\n",
       "    }\n",
       "\n",
       "    .dataframe tbody tr th {\n",
       "        vertical-align: top;\n",
       "    }\n",
       "\n",
       "    .dataframe thead th {\n",
       "        text-align: right;\n",
       "    }\n",
       "</style>\n",
       "<table border=\"1\" class=\"dataframe\">\n",
       "  <thead>\n",
       "    <tr style=\"text-align: right;\">\n",
       "      <th></th>\n",
       "      <th>hl</th>\n",
       "      <th>hls</th>\n",
       "      <th>hlsh</th>\n",
       "      <th>date</th>\n",
       "      <th>ts</th>\n",
       "      <th>ds</th>\n",
       "      <th>icon</th>\n",
       "      <th>desc</th>\n",
       "      <th>temp</th>\n",
       "      <th>templow</th>\n",
       "      <th>baro</th>\n",
       "      <th>wind</th>\n",
       "      <th>wd</th>\n",
       "      <th>hum</th>\n",
       "    </tr>\n",
       "  </thead>\n",
       "  <tbody>\n",
       "    <tr>\n",
       "      <th>0</th>\n",
       "      <td>True</td>\n",
       "      <td>Tue, Sep 8</td>\n",
       "      <td>Sep 8</td>\n",
       "      <td>1.252411e+12</td>\n",
       "      <td>12 pm</td>\n",
       "      <td>2009-09-08 12:00:00</td>\n",
       "      <td>1</td>\n",
       "      <td>Sunny.</td>\n",
       "      <td>69.8</td>\n",
       "      <td>69.8</td>\n",
       "      <td>29.85</td>\n",
       "      <td>6.836</td>\n",
       "      <td>300</td>\n",
       "      <td>53</td>\n",
       "    </tr>\n",
       "    <tr>\n",
       "      <th>1</th>\n",
       "      <td>NaN</td>\n",
       "      <td>NaN</td>\n",
       "      <td>NaN</td>\n",
       "      <td>1.252433e+12</td>\n",
       "      <td>6 pm</td>\n",
       "      <td>2009-09-08 18:00:00</td>\n",
       "      <td>13</td>\n",
       "      <td>Clear.</td>\n",
       "      <td>57.2</td>\n",
       "      <td>57.2</td>\n",
       "      <td>29.89</td>\n",
       "      <td>4.350</td>\n",
       "      <td>330</td>\n",
       "      <td>87</td>\n",
       "    </tr>\n",
       "    <tr>\n",
       "      <th>2</th>\n",
       "      <td>True</td>\n",
       "      <td>Wed, Sep 9</td>\n",
       "      <td>Sep 9</td>\n",
       "      <td>1.252454e+12</td>\n",
       "      <td>12 am</td>\n",
       "      <td>2009-09-09 00:00:00</td>\n",
       "      <td>13</td>\n",
       "      <td>Clear.</td>\n",
       "      <td>55.4</td>\n",
       "      <td>51.8</td>\n",
       "      <td>29.91</td>\n",
       "      <td>1.243</td>\n",
       "      <td>320</td>\n",
       "      <td>94</td>\n",
       "    </tr>\n",
       "    <tr>\n",
       "      <th>3</th>\n",
       "      <td>NaN</td>\n",
       "      <td>NaN</td>\n",
       "      <td>NaN</td>\n",
       "      <td>1.252476e+12</td>\n",
       "      <td>6 am</td>\n",
       "      <td>2009-09-09 06:00:00</td>\n",
       "      <td>36</td>\n",
       "      <td>No weather data available</td>\n",
       "      <td>NaN</td>\n",
       "      <td>NaN</td>\n",
       "      <td>0.00</td>\n",
       "      <td>0.000</td>\n",
       "      <td>0</td>\n",
       "      <td>0</td>\n",
       "    </tr>\n",
       "    <tr>\n",
       "      <th>4</th>\n",
       "      <td>NaN</td>\n",
       "      <td>NaN</td>\n",
       "      <td>NaN</td>\n",
       "      <td>1.252498e+12</td>\n",
       "      <td>12 pm</td>\n",
       "      <td>2009-09-09 12:00:00</td>\n",
       "      <td>2</td>\n",
       "      <td>Passing clouds.</td>\n",
       "      <td>66.2</td>\n",
       "      <td>64.4</td>\n",
       "      <td>29.97</td>\n",
       "      <td>11.807</td>\n",
       "      <td>300</td>\n",
       "      <td>65</td>\n",
       "    </tr>\n",
       "  </tbody>\n",
       "</table>\n",
       "</div>"
      ],
      "text/plain": [
       "     hl         hls   hlsh          date     ts                  ds  icon  \\\n",
       "0  True  Tue, Sep 8  Sep 8  1.252411e+12  12 pm 2009-09-08 12:00:00     1   \n",
       "1   NaN         NaN    NaN  1.252433e+12   6 pm 2009-09-08 18:00:00    13   \n",
       "2  True  Wed, Sep 9  Sep 9  1.252454e+12  12 am 2009-09-09 00:00:00    13   \n",
       "3   NaN         NaN    NaN  1.252476e+12   6 am 2009-09-09 06:00:00    36   \n",
       "4   NaN         NaN    NaN  1.252498e+12  12 pm 2009-09-09 12:00:00     2   \n",
       "\n",
       "                        desc  temp  templow   baro    wind   wd  hum  \n",
       "0                     Sunny.  69.8     69.8  29.85   6.836  300   53  \n",
       "1                     Clear.  57.2     57.2  29.89   4.350  330   87  \n",
       "2                     Clear.  55.4     51.8  29.91   1.243  320   94  \n",
       "3  No weather data available   NaN      NaN   0.00   0.000    0    0  \n",
       "4            Passing clouds.  66.2     64.4  29.97  11.807  300   65  "
      ]
     },
     "execution_count": 176,
     "metadata": {},
     "output_type": "execute_result"
    }
   ],
   "source": [
    "pattern = r\"day, (.*?) —\"\n",
    "df['ds'] = df['ds'].astype('string').str.extract(pattern)\n",
    "df['ds'] = pd.to_datetime(df['ds'] ,infer_datetime_format=True)\n",
    "df.head()"
   ]
  },
  {
   "cell_type": "code",
   "execution_count": 177,
   "id": "e2939b79-32a8-46a9-93ec-02cb0009f98d",
   "metadata": {},
   "outputs": [
    {
     "name": "stdout",
     "output_type": "stream",
     "text": [
      "<class 'pandas.core.frame.DataFrame'>\n",
      "Int64Index: 20247 entries, 0 to 74\n",
      "Data columns (total 14 columns):\n",
      " #   Column   Non-Null Count  Dtype         \n",
      "---  ------   --------------  -----         \n",
      " 0   hl       5063 non-null   object        \n",
      " 1   hls      5063 non-null   object        \n",
      " 2   hlsh     5063 non-null   object        \n",
      " 3   date     20247 non-null  float64       \n",
      " 4   ts       20247 non-null  object        \n",
      " 5   ds       20247 non-null  datetime64[ns]\n",
      " 6   icon     20247 non-null  int64         \n",
      " 7   desc     20247 non-null  object        \n",
      " 8   temp     20155 non-null  float64       \n",
      " 9   templow  20155 non-null  float64       \n",
      " 10  baro     20247 non-null  float64       \n",
      " 11  wind     20247 non-null  float64       \n",
      " 12  wd       20247 non-null  int64         \n",
      " 13  hum      20247 non-null  int64         \n",
      "dtypes: datetime64[ns](1), float64(5), int64(3), object(5)\n",
      "memory usage: 2.3+ MB\n"
     ]
    }
   ],
   "source": [
    "df.info()"
   ]
  },
  {
   "cell_type": "code",
   "execution_count": 178,
   "id": "7b9f4ec6-81db-4043-b582-e853f1039e3a",
   "metadata": {},
   "outputs": [],
   "source": [
    "col_keep = ['ds', 'temp', 'templow', 'baro', 'wind', 'wd', 'hum', 'desc']\n",
    "new_df = df[col_keep]\n"
   ]
  },
  {
   "cell_type": "code",
   "execution_count": 179,
   "id": "5b785073-d8fe-45ce-b130-fb427b79d8fd",
   "metadata": {},
   "outputs": [
    {
     "name": "stderr",
     "output_type": "stream",
     "text": [
      "/var/folders/th/4cfl7z012fg_zjvld08z7qy80000gn/T/ipykernel_88307/1800194360.py:1: SettingWithCopyWarning: \n",
      "A value is trying to be set on a copy of a slice from a DataFrame\n",
      "\n",
      "See the caveats in the documentation: https://pandas.pydata.org/pandas-docs/stable/user_guide/indexing.html#returning-a-view-versus-a-copy\n",
      "  new_df.rename(columns={\"ds\": \"date\"}, inplace=True)\n"
     ]
    },
    {
     "data": {
      "text/html": [
       "<div>\n",
       "<style scoped>\n",
       "    .dataframe tbody tr th:only-of-type {\n",
       "        vertical-align: middle;\n",
       "    }\n",
       "\n",
       "    .dataframe tbody tr th {\n",
       "        vertical-align: top;\n",
       "    }\n",
       "\n",
       "    .dataframe thead th {\n",
       "        text-align: right;\n",
       "    }\n",
       "</style>\n",
       "<table border=\"1\" class=\"dataframe\">\n",
       "  <thead>\n",
       "    <tr style=\"text-align: right;\">\n",
       "      <th></th>\n",
       "      <th>date</th>\n",
       "      <th>temp</th>\n",
       "      <th>templow</th>\n",
       "      <th>baro</th>\n",
       "      <th>wind</th>\n",
       "      <th>wd</th>\n",
       "      <th>hum</th>\n",
       "      <th>desc</th>\n",
       "    </tr>\n",
       "  </thead>\n",
       "  <tbody>\n",
       "    <tr>\n",
       "      <th>0</th>\n",
       "      <td>2009-09-08 12:00:00</td>\n",
       "      <td>69.8</td>\n",
       "      <td>69.8</td>\n",
       "      <td>29.85</td>\n",
       "      <td>6.836</td>\n",
       "      <td>300</td>\n",
       "      <td>53</td>\n",
       "      <td>Sunny.</td>\n",
       "    </tr>\n",
       "    <tr>\n",
       "      <th>1</th>\n",
       "      <td>2009-09-08 18:00:00</td>\n",
       "      <td>57.2</td>\n",
       "      <td>57.2</td>\n",
       "      <td>29.89</td>\n",
       "      <td>4.350</td>\n",
       "      <td>330</td>\n",
       "      <td>87</td>\n",
       "      <td>Clear.</td>\n",
       "    </tr>\n",
       "    <tr>\n",
       "      <th>2</th>\n",
       "      <td>2009-09-09 00:00:00</td>\n",
       "      <td>55.4</td>\n",
       "      <td>51.8</td>\n",
       "      <td>29.91</td>\n",
       "      <td>1.243</td>\n",
       "      <td>320</td>\n",
       "      <td>94</td>\n",
       "      <td>Clear.</td>\n",
       "    </tr>\n",
       "    <tr>\n",
       "      <th>3</th>\n",
       "      <td>2009-09-09 06:00:00</td>\n",
       "      <td>NaN</td>\n",
       "      <td>NaN</td>\n",
       "      <td>0.00</td>\n",
       "      <td>0.000</td>\n",
       "      <td>0</td>\n",
       "      <td>0</td>\n",
       "      <td>No weather data available</td>\n",
       "    </tr>\n",
       "    <tr>\n",
       "      <th>4</th>\n",
       "      <td>2009-09-09 12:00:00</td>\n",
       "      <td>66.2</td>\n",
       "      <td>64.4</td>\n",
       "      <td>29.97</td>\n",
       "      <td>11.807</td>\n",
       "      <td>300</td>\n",
       "      <td>65</td>\n",
       "      <td>Passing clouds.</td>\n",
       "    </tr>\n",
       "  </tbody>\n",
       "</table>\n",
       "</div>"
      ],
      "text/plain": [
       "                 date  temp  templow   baro    wind   wd  hum  \\\n",
       "0 2009-09-08 12:00:00  69.8     69.8  29.85   6.836  300   53   \n",
       "1 2009-09-08 18:00:00  57.2     57.2  29.89   4.350  330   87   \n",
       "2 2009-09-09 00:00:00  55.4     51.8  29.91   1.243  320   94   \n",
       "3 2009-09-09 06:00:00   NaN      NaN   0.00   0.000    0    0   \n",
       "4 2009-09-09 12:00:00  66.2     64.4  29.97  11.807  300   65   \n",
       "\n",
       "                        desc  \n",
       "0                     Sunny.  \n",
       "1                     Clear.  \n",
       "2                     Clear.  \n",
       "3  No weather data available  \n",
       "4            Passing clouds.  "
      ]
     },
     "execution_count": 179,
     "metadata": {},
     "output_type": "execute_result"
    }
   ],
   "source": [
    "new_df.rename(columns={\"ds\": \"date\"}, inplace=True)\n",
    "new_df.reset_index(drop=True, inplace=True)\n",
    "new_df.head()"
   ]
  },
  {
   "cell_type": "code",
   "execution_count": 180,
   "id": "b175eab6-8cf9-4b27-8772-f5deed92802b",
   "metadata": {},
   "outputs": [],
   "source": [
    "new_df.to_csv(\"weather.csv\")"
   ]
  }
 ],
 "metadata": {
  "kernelspec": {
   "display_name": "Python 3 (ipykernel)",
   "language": "python",
   "name": "python3"
  },
  "language_info": {
   "codemirror_mode": {
    "name": "ipython",
    "version": 3
   },
   "file_extension": ".py",
   "mimetype": "text/x-python",
   "name": "python",
   "nbconvert_exporter": "python",
   "pygments_lexer": "ipython3",
   "version": "3.9.12"
  }
 },
 "nbformat": 4,
 "nbformat_minor": 5
}
